{
  "nbformat": 4,
  "nbformat_minor": 0,
  "metadata": {
    "colab": {
      "name": "transliterations-ar-az-ka-to-lat-cyr",
      "provenance": [],
      "collapsed_sections": []
    },
    "kernelspec": {
      "name": "python3",
      "display_name": "Python 3"
    },
    "language_info": {
      "name": "python"
    }
  },
  "cells": [
    {
      "cell_type": "code",
      "metadata": {
        "colab": {
          "base_uri": "https://localhost:8080/",
          "height": 181
        },
        "id": "9vdUdcOWE2Ls",
        "outputId": "c37e03a1-3773-41ca-d05b-52024582f3e2"
      },
      "source": [
        "#@title Generate Transliterations\n",
        "\n",
        "import pandas as pd\n",
        "\n",
        "from IPython.display import HTML\n",
        "import base64\n",
        "\n",
        "from datetime import datetime\n",
        "\n",
        "az_json = {\"AZE\":{\"0\":\"A a\",\"1\":\"B b\",\"2\":\"C c\",\"3\":\"\\u00c7 \\u00e7\",\"4\":\"D d\",\"5\":\"E e\",\"6\":\"\\u018f \\u0259\",\"7\":\"F f\",\"8\":\"G g\",\"9\":\"\\u011e \\u011f\",\"10\":\"H h\",\"11\":\"X x\",\"12\":\"I \\u0131\",\"13\":\"\\u0130 i\",\"14\":\"J j\",\"15\":\"K k\",\"16\":\"Q q\",\"17\":\"L l\",\"18\":\"M m\",\"19\":\"N n\",\"20\":\"O o\",\"21\":\"\\u00d6 \\u00f6\",\"22\":\"P p\",\"23\":\"R r\",\"24\":\"S s\",\"25\":\"\\u015e \\u015f\",\"26\":\"T t\",\"27\":\"U u\",\"28\":\"\\u00dc \\u00fc\",\"29\":\"V v\",\"30\":\"Y y\",\"31\":\"Z z\"},\"LAT\":{\"0\":\"a\",\"1\":\"b\",\"2\":\"j\",\"3\":\"ch\",\"4\":\"d\",\"5\":\"e\",\"6\":\" a or e\",\"7\":\"f\",\"8\":\"g\",\"9\":\"gh\",\"10\":\"h\",\"11\":\"x\",\"12\":\"i\",\"13\":\"i\",\"14\":\"j\",\"15\":\"k\",\"16\":\"q\",\"17\":\"l\",\"18\":\"m\",\"19\":\"n\",\"20\":\"o\",\"21\":\"o\",\"22\":\"p\",\"23\":\"r\",\"24\":\"s\",\"25\":\"sh\",\"26\":\"t\",\"27\":\"u\",\"28\":\"u\",\"29\":\"v\",\"30\":\"y\",\"31\":\"z\"},\"CYR\":{\"0\":\"\\u0430\",\"1\":\"\\u0431\",\"2\":\"\\u0434\\u0436\",\"3\":\"\\u0447\",\"4\":\"\\u0434\",\"5\":\"\\u0435 \",\"6\":\"\\u0430 or \\u0435\",\"7\":\"\\u0444\",\"8\":\"\\u0433\",\"9\":\"\\u0433\",\"10\":\"\\u0445\",\"11\":\"\\u0445\",\"12\":\"\\u0438\",\"13\":\"\\u0438\",\"14\":\"\\u0436\",\"15\":\" \\u043a\",\"16\":\"\\u0433\",\"17\":\"\\u043b\",\"18\":\"\\u043c\",\"19\":\"\\u043d \",\"20\":\"\\u043e\",\"21\":\"\\u043e\",\"22\":\"\\u043f\",\"23\":\"p\",\"24\":\"\\u0441\",\"25\":\"\\u0448\",\"26\":\"\\u0442\",\"27\":\"\\u0443\",\"28\":\"\\u0443\",\"29\":\"\\u0432\",\"30\":\"\\u0439\",\"31\":\"\\u0437\"}}\n",
        "ka_json = {\"GEO\":{\"0\":\"\\u10d0\",\"1\":\"\\u10d1\",\"2\":\"\\u10d2\",\"3\":\"\\u10d3\",\"4\":\"\\u10d4\",\"5\":\"\\u10d5\",\"6\":\"\\u10d6\",\"7\":\"\\u10d7\",\"8\":\"\\u10d8\",\"9\":\"\\u10d9\",\"10\":\"\\u10da\",\"11\":\"\\u10db\",\"12\":\"\\u10dc\",\"13\":\"\\u10dd\",\"14\":\"\\u10de\",\"15\":\"\\u10df\",\"16\":\"\\u10e0\",\"17\":\"\\u10e1\",\"18\":\"\\u10e2\",\"19\":\"\\u10e3\",\"20\":\"\\u10e4\",\"21\":\"\\u10e5\",\"22\":\"\\u10e6\",\"23\":\"\\u10e7\",\"24\":\"\\u10e8\",\"25\":\"\\u10e9\",\"26\":\"\\u10ea\",\"27\":\"\\u10eb\",\"28\":\"\\u10ec\",\"29\":\"\\u10ed\",\"30\":\"\\u10ee\",\"31\":\"\\u10ef\",\"32\":\"\\u10f0\"},\"LAT\":{\"0\":\"a\",\"1\":\"b\",\"2\":\"g\",\"3\":\"d\",\"4\":\"e\",\"5\":\"v\",\"6\":\"z\",\"7\":\"t\",\"8\":\"i\",\"9\":\"k\",\"10\":\"l\",\"11\":\"m\",\"12\":\"n\",\"13\":\"o\",\"14\":\"p\",\"15\":\"j\",\"16\":\"r\",\"17\":\"s\",\"18\":\"t\",\"19\":\"u\",\"20\":\"f\",\"21\":\"q\",\"22\":\"g\",\"23\":\"y\",\"24\":\"sh\",\"25\":\"ch\",\"26\":\"c\",\"27\":\"dz\",\"28\":\"ts\",\"29\":\"w\",\"30\":\"kh\",\"31\":\"j\",\"32\":\"h\"},\"CYR\":{\"0\":\"\\u0430\",\"1\":\"\\u0431\",\"2\":\"\\u0433\",\"3\":\"\\u0434\",\"4\":\"\\u0435 \",\"5\":\"\\u0432\",\"6\":\"\\u0437\",\"7\":\"\\u0442\",\"8\":\"\\u0438\",\"9\":\"\\u043a\",\"10\":\"\\u043b\",\"11\":\"\\u043c\",\"12\":\"\\u043d \",\"13\":\"\\u043e\",\"14\":\"\\u043f\",\"15\":\"\\u0436\",\"16\":\"p\",\"17\":\"\\u0441\",\"18\":\"\\u0442\",\"19\":\"\\u0443\",\"20\":\"\\u0444\",\"21\":\"\\u043a\",\"22\":\"\\u0433\",\"23\":\"\\u043a\",\"24\":\"\\u0448\",\"25\":\"\\u0447\",\"26\":\"\\u0446\",\"27\":\"\\u0434\\u0437\",\"28\":\"\\u0446\",\"29\":\"\\u0447\",\"30\":\"\\u0445\",\"31\":\"\\u0434\\u0436\",\"32\":\"\\u0445\"}}\n",
        "ar_json = {\"ARM-LOW\":{\"0\":\"\\u0561\",\"1\":\"\\u0562\",\"2\":\"\\u0563\",\"3\":\"\\u0564\",\"4\":\"\\u0565\",\"5\":\"\\u0566\",\"6\":\"\\u0567\",\"7\":\"\\u0568\",\"8\":\"\\u0569\",\"9\":\"\\u056a\",\"10\":\"\\u056b\",\"11\":\"\\u056c\",\"12\":\"\\u056d\",\"13\":\"\\u056e\",\"14\":\"\\u056f\",\"15\":\"\\u0570\",\"16\":\"\\u0571\",\"17\":\"\\u0572\",\"18\":\"\\u0573\",\"19\":\"\\u0574\",\"20\":\"\\u0575\",\"21\":\"\\u0576\",\"22\":\"\\u0577\",\"23\":\"\\u0578\",\"24\":\"\\u0579\",\"25\":\"\\u057a\",\"26\":\"\\u057b\",\"27\":\"\\u057c\",\"28\":\"\\u057d\",\"29\":\"\\u057e\",\"30\":\"\\u057f\",\"31\":\"\\u0580\",\"32\":\"\\u0581\",\"33\":\"\\u0578\\u0582\",\"34\":\"\\u0583\",\"35\":\"\\u0584\",\"36\":\"\\u0587\",\"37\":\"\\u0585\",\"38\":\"\\u0586\"},\"ARM-UP\":{\"0\":\"\\u0531\",\"1\":\"\\u0532\",\"2\":\"\\u0533\",\"3\":\"\\u0534\",\"4\":\"\\u0535\",\"5\":\"\\u0536\",\"6\":\"\\u0537\",\"7\":\"\\u0538\",\"8\":\"\\u0539\",\"9\":\"\\u053a\",\"10\":\"\\u053b\",\"11\":\"\\u053c\",\"12\":\"\\u053d\",\"13\":\"\\u053e\",\"14\":\"\\u053f\",\"15\":\"\\u0540\",\"16\":\"\\u0541\",\"17\":\"\\u0542\",\"18\":\"\\u0543\",\"19\":\"\\u0544\",\"20\":\"\\u0545\",\"21\":\"\\u0546\",\"22\":\"\\u0547\",\"23\":\"\\u0548\",\"24\":\"\\u0549\",\"25\":\"\\u054a\",\"26\":\"\\u054b\",\"27\":\"\\u054c\",\"28\":\"\\u054d\",\"29\":\"\\u054e\",\"30\":\"\\u054f\",\"31\":\"\\u0550\",\"32\":\"\\u0551\",\"33\":\"\\u0548\\u0552\",\"34\":\"\\u0553\",\"35\":\"\\u0554\",\"36\":\"  \\u0535\\u054e\",\"37\":\"\\u0555\",\"38\":\"\\u0556\"},\"LAT\":{\"0\":\"a\",\"1\":\"b\",\"2\":\"g\",\"3\":\"d\",\"4\":\"e\",\"5\":\"z\",\"6\":\"e\",\"7\":\"@\",\"8\":\"t\",\"9\":\"j\",\"10\":\"i\",\"11\":\"l\",\"12\":\"x\",\"13\":\"ts\",\"14\":\"k\",\"15\":\"h\",\"16\":\"dz\",\"17\":\"g\",\"18\":\"c\\u0570 or 4\",\"19\":\"m\",\"20\":\"y\",\"21\":\"n\",\"22\":\"sh\",\"23\":\"vo\",\"24\":\"ch or 4\",\"25\":\"p\",\"26\":\"j\",\"27\":\"r\",\"28\":\"s\",\"29\":\"v\",\"30\":\"t\",\"31\":\"r\",\"32\":\"c\",\"33\":\"u\",\"34\":\"p\",\"35\":\"k\",\"36\":\"ev\",\"37\":\"o\",\"38\":\"f\"},\"CYR\":{\"0\":\"\\u0430\",\"1\":\"\\u0431\",\"2\":\"\\u0433\",\"3\":\"\\u0434\",\"4\":\"\\u0435 \",\"5\":\"\\u0437\",\"6\":\"\\u0435\",\"7\":\"\\u0435 \",\"8\":\"\\u0442\",\"9\":\"\\u0436\",\"10\":\"\\u0438\",\"11\":\"\\u043b\",\"12\":\"\\u0445\",\"13\":\"\\u0446\",\"14\":\"\\u043a\",\"15\":\"\\u0445\",\"16\":\"\\u0434\\u0437\",\"17\":\"\\u0433\",\"18\":\"\",\"19\":\"\\u043c\",\"20\":\"\\u0443\",\"21\":\"\\u043d \",\"22\":\"\\u0448\",\"23\":\"\\u0432\\u043e\",\"24\":\"\\u0447\",\"25\":\"\\u043f\",\"26\":\"\\u0434\\u0436\",\"27\":\"p\",\"28\":\"\\u0441\",\"29\":\"\\u0432\",\"30\":\"\\u0442\",\"31\":\"p\",\"32\":\"\\u0446\",\"33\":\"\\u0443\",\"34\":\"\\u043f\",\"35\":\"\\u043a\",\"36\":\"\\u0435\\u0432\",\"37\":\"\\u043e\",\"38\":\"\\u0444\"},\"Unnamed: 4\":{\"0\":\"\",\"1\":\"\",\"2\":\"\",\"3\":\"\",\"4\":\"\",\"5\":\"\",\"6\":\"\",\"7\":\"not sure\",\"8\":\"\",\"9\":\"\",\"10\":\"\",\"11\":\"\",\"12\":\"\",\"13\":\"\",\"14\":\"\",\"15\":\"\",\"16\":\"\",\"17\":\"\",\"18\":\"\",\"19\":\"\",\"20\":\"\",\"21\":\"\",\"22\":\"\",\"23\":\"\",\"24\":\"\",\"25\":\"\",\"26\":\"\",\"27\":\"\",\"28\":\"\",\"29\":\"\",\"30\":\"\",\"31\":\"\",\"32\":\"\",\"33\":\"\",\"34\":\"\",\"35\":\"\",\"36\":\"\",\"37\":\"\",\"38\":\"\"}}\n",
        "\n",
        "df_az = pd.DataFrame(az_json)\n",
        "df_ar = pd.DataFrame(ar_json)\n",
        "df_ka = pd.DataFrame(ka_json)\n",
        "\n",
        "df_az[\"AZE-UP\"] = df_az[\"AZE\"].apply(lambda x: x.split(' ')[0])\n",
        "df_az[\"AZE-LOW\"] = df_az[\"AZE\"].apply(lambda x: x.split(' ')[1])\n",
        "\n",
        "#@markdown Please select the source language:\n",
        "From = \"Georgian\" #@param [\"Armenian\", \"Azerbaijani\", \"Georgian\"]\n",
        "\n",
        "#@markdown Please select the target alphabets:\n",
        "Latin = True #@param {type:\"boolean\"}\n",
        "Cyrillic = True #@param {type:\"boolean\"}\n",
        "\n",
        "target_alphabets = []\n",
        "\n",
        "if Latin: target_alphabets.append(\"LAT\")\n",
        "if Cyrillic: target_alphabets.append(\"CYR\")\n",
        "\n",
        "#@markdown Please input the terms for transliterations, separated by comma:\n",
        "Terms = \"\\u10D2\\u10D0\\u10DB\\u10D0\\u10E0\\u10EF\\u10DD\\u10D1\\u10D0, \\u10D3\\u10D8\\u10DA\\u10D0 \\u10DB\\u10E8\\u10D5\\u10D8\\u10D3\\u10DD\\u10D1\\u10D8\\u10E1\" #@param {type:\"string\"}\n",
        "\n",
        "\n",
        "def get_transliteration(source_lang, target_alphabet, text):\n",
        "    \n",
        "    if source_lang == 'Armenian':\n",
        "        return ''.join([( df_ar[df_ar[\"ARM-LOW\"] == letter][target_alphabet].values[0] \n",
        "            if df_ar[df_ar[\"ARM-LOW\"] == letter].shape[0] == 1 \n",
        "            else df_ar[df_ar[\"ARM-UP\"] == letter][target_alphabet].values[0]\n",
        "                if df_ar[df_ar[\"ARM-UP\"] == letter].shape[0] == 1\n",
        "                else letter ) for letter in text]) \n",
        "    elif source_lang == 'Azerbaijani':\n",
        "        return ''.join([( df_az[df_az[\"AZE-LOW\"] == letter][target_alphabet].values[0] \n",
        "            if df_az[df_az[\"AZE-LOW\"] == letter].shape[0] == 1 \n",
        "            else df_az[df_az[\"AZE-UP\"] == letter][target_alphabet].values[0]\n",
        "                if df_az[df_az[\"AZE-UP\"] == letter].shape[0] == 1\n",
        "                else letter ) for letter in text]) \n",
        "    elif source_lang == 'Georgian':\n",
        "        return ''.join([( df_ka[df_ka[\"GEO\"] == letter][target_alphabet].values[0] \n",
        "            if df_ka[df_ka[\"GEO\"] == letter].shape[0] == 1 \n",
        "            else letter ) for letter in text]) \n",
        "\n",
        "\n",
        "def get_transliterations(text, **kwargs):\n",
        "    result = {}\n",
        "    if \"LAT\" in kwargs[\"target_alphabets\"]:\n",
        "        result[\"LAT\"] = get_transliteration(kwargs[\"source_lang\"], \"LAT\" , text)\n",
        "    if \"CYR\" in kwargs[\"target_alphabets\"]:\n",
        "        result[\"CYR\"] = get_transliteration(kwargs[\"source_lang\"], \"CYR\" , text)\n",
        "        \n",
        "    return result \n",
        "\n",
        "\n",
        "def form_submit(terms, **kwargs):\n",
        "    return [{\"term\": term, \"transliterations\": get_transliterations(term, source_lang = From, target_alphabets = target_alphabets)} for term in terms.split(',')]\n",
        "\n",
        "transliterations = form_submit(Terms)\n",
        "\n",
        "df_values = []\n",
        "for transliteration in transliterations:\n",
        "    for alphabet in transliteration[\"transliterations\"].keys():\n",
        "        df_values.append({\"term\": transliteration[\"term\"], \"alphabet\": alphabet, \"transliteration\": transliteration[\"transliterations\"][alphabet]})\n",
        "\n",
        "df = pd.DataFrame(df_values)\n",
        "\n",
        "def create_download_link( title = \"Download the results\", filename = \"generated-transliterations-{}.csv\".format(datetime.now().strftime('%Y-%m-%d-%H-%M'))):  \n",
        "    csv = df.to_csv()\n",
        "    b64 = base64.b64encode(csv.encode())\n",
        "    payload = b64.decode()\n",
        "    html = '<a download=\"{filename}\" href=\"data:text/csv;base64,{payload}\" target=\"_blank\">{title}</a>'\n",
        "    html = html.format(payload=payload,title=title,filename=filename)\n",
        "    return HTML(html)\n",
        "\n",
        "display(df.head())\n",
        "create_download_link()"
      ],
      "execution_count": null,
      "outputs": [
        {
          "output_type": "display_data",
          "data": {
            "text/html": [
              "<div>\n",
              "<style scoped>\n",
              "    .dataframe tbody tr th:only-of-type {\n",
              "        vertical-align: middle;\n",
              "    }\n",
              "\n",
              "    .dataframe tbody tr th {\n",
              "        vertical-align: top;\n",
              "    }\n",
              "\n",
              "    .dataframe thead th {\n",
              "        text-align: right;\n",
              "    }\n",
              "</style>\n",
              "<table border=\"1\" class=\"dataframe\">\n",
              "  <thead>\n",
              "    <tr style=\"text-align: right;\">\n",
              "      <th></th>\n",
              "      <th>term</th>\n",
              "      <th>alphabet</th>\n",
              "      <th>transliteration</th>\n",
              "    </tr>\n",
              "  </thead>\n",
              "  <tbody>\n",
              "    <tr>\n",
              "      <th>0</th>\n",
              "      <td>გამარჯობა</td>\n",
              "      <td>LAT</td>\n",
              "      <td>gamarjoba</td>\n",
              "    </tr>\n",
              "    <tr>\n",
              "      <th>1</th>\n",
              "      <td>გამარჯობა</td>\n",
              "      <td>CYR</td>\n",
              "      <td>гамаpджоба</td>\n",
              "    </tr>\n",
              "    <tr>\n",
              "      <th>2</th>\n",
              "      <td>დილა მშვიდობის</td>\n",
              "      <td>LAT</td>\n",
              "      <td>dila mshvidobis</td>\n",
              "    </tr>\n",
              "    <tr>\n",
              "      <th>3</th>\n",
              "      <td>დილა მშვიდობის</td>\n",
              "      <td>CYR</td>\n",
              "      <td>дила мшвидобис</td>\n",
              "    </tr>\n",
              "  </tbody>\n",
              "</table>\n",
              "</div>"
            ],
            "text/plain": [
              "              term alphabet   transliteration\n",
              "0        გამარჯობა      LAT         gamarjoba\n",
              "1        გამარჯობა      CYR        гамаpджоба\n",
              "2   დილა მშვიდობის      LAT   dila mshvidobis\n",
              "3   დილა მშვიდობის      CYR    дила мшвидобис"
            ]
          },
          "metadata": {
            "tags": []
          }
        },
        {
          "output_type": "execute_result",
          "data": {
            "text/html": [
              "<a download=\"generated-transliterations-2021-05-19-17-54.csv\" href=\"data:text/csv;base64,LHRlcm0sYWxwaGFiZXQsdHJhbnNsaXRlcmF0aW9uCjAs4YOS4YOQ4YOb4YOQ4YOg4YOv4YOd4YOR4YOQLExBVCxnYW1hcmpvYmEKMSzhg5Lhg5Dhg5vhg5Dhg6Dhg6/hg53hg5Hhg5AsQ1lSLNCz0LDQvNCwcNC00LbQvtCx0LAKMiwg4YOT4YOY4YOa4YOQIOGDm+GDqOGDleGDmOGDk+GDneGDkeGDmOGDoSxMQVQsIGRpbGEgbXNodmlkb2JpcwozLCDhg5Phg5jhg5rhg5Ag4YOb4YOo4YOV4YOY4YOT4YOd4YOR4YOY4YOhLENZUiwg0LTQuNC70LAg0LzRiNCy0LjQtNC+0LHQuNGBCg==\" target=\"_blank\">Download the results</a>"
            ],
            "text/plain": [
              "<IPython.core.display.HTML object>"
            ]
          },
          "metadata": {
            "tags": []
          },
          "execution_count": 54
        }
      ]
    }
  ]
}